{
 "cells": [
  {
   "cell_type": "code",
   "execution_count": null,
   "metadata": {},
   "outputs": [],
   "source": [
    "# data types\n",
    "age = 32\n",
    "age = 33\n",
    "print(\"age\")\n",
    "height = 5.4\n",
    "name = \"Millie\"\n",
    "staff = False\n",
    "student = True\n",
    "items = (\"pizza\",\"plate\",\"monster\", 15.45)\n",
    "items[0]\n",
    "parents = (\"mom\",\"dad\")\n",
    "person{\n",
    "    'name': 'Millie',\n",
    "    'age': age,  #key:value\n",
    "}\n",
    "millies_name = person['name']"
   ]
  },
  {
   "cell_type": "code",
   "execution_count": null,
   "metadata": {},
   "outputs": [],
   "source": [
    "# equations\n",
    "my_sum = 5 % 3 # % what is the remainder? 2\n",
    "x//y # divided by and rounded down to the nearest integer\n",
    "2 ** 3 # 2 to the power of 3\n",
    "2 ** 0.5 # root\n",
    "round(10/3, 4) # 10 / 3 rounding down to 4 decimals\n",
    "s = 'string' * 3 \n",
    "print(s) # prints string 3 times"
   ]
  },
  {
   "cell_type": "code",
   "execution_count": null,
   "metadata": {},
   "outputs": [],
   "source": [
    "# data flow\n",
    "if student:\n",
    "    print(\"Hi student\")\n",
    "elif student or age < 18:\n",
    "    print(\"not staff\")\n",
    "elif staff:\n",
    "    print(\"not student\")\n",
    "elif 'monster' in items:\n",
    "    print(\"must be a student\")\n",
    "elif not staff or student:\n",
    "        print(\"Hi stranger\")\n",
    "else:\n",
    "    print(\"Hi staff\")\n",
    "\n",
    "    "
   ]
  },
  {
   "cell_type": "code",
   "execution_count": null,
   "metadata": {},
   "outputs": [],
   "source": [
    "# loops\n",
    "while student:\n",
    "    print(\"Hiya\")\n",
    "    break\n",
    "\n",
    "for item in items:\n",
    "    print(items)\n",
    "\n",
    "for idx in range():\n",
    "    print(idx)\n",
    "    if idx == 5: # check if they are the same\n",
    "        break\n",
    "    if idx == 4:\n",
    "        continue\n",
    "\n"
   ]
  }
 ],
 "metadata": {
  "language_info": {
   "name": "python"
  },
  "orig_nbformat": 4
 },
 "nbformat": 4,
 "nbformat_minor": 2
}
