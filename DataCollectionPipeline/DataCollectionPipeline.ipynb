{
 "cells": [
  {
   "cell_type": "code",
   "execution_count": 18,
   "metadata": {},
   "outputs": [
    {
     "ename": "WebDriverException",
     "evalue": "Message: chrome not reachable\n  (Session info: chrome=99.0.4844.84)\nStacktrace:\nBacktrace:\n\tOrdinal0 [0x006E9943+2595139]\n\tOrdinal0 [0x0067C9F1+2148849]\n\tOrdinal0 [0x005743F0+1065968]\n\tOrdinal0 [0x005687C2+1017794]\n\tOrdinal0 [0x00568FF8+1019896]\n\tOrdinal0 [0x0056A892+1026194]\n\tOrdinal0 [0x00564219+999961]\n\tOrdinal0 [0x00575860+1071200]\n\tOrdinal0 [0x005CB2D2+1422034]\n\tOrdinal0 [0x005BB806+1357830]\n\tOrdinal0 [0x00596086+1204358]\n\tOrdinal0 [0x00596F96+1208214]\n\tGetHandleVerifier [0x0088B232+1658114]\n\tGetHandleVerifier [0x0094312C+2411516]\n\tGetHandleVerifier [0x0077F261+560433]\n\tGetHandleVerifier [0x0077E366+556598]\n\tOrdinal0 [0x0068286B+2173035]\n\tOrdinal0 [0x006875F8+2192888]\n\tOrdinal0 [0x006876E5+2193125]\n\tOrdinal0 [0x006911FC+2232828]\n\tBaseThreadInitThunk [0x7756FA29+25]\n\tRtlGetAppContainerNamedObjectPath [0x77AA7A7E+286]\n\tRtlGetAppContainerNamedObjectPath [0x77AA7A4E+238]\n",
     "output_type": "error",
     "traceback": [
      "\u001b[1;31m---------------------------------------------------------------------------\u001b[0m",
      "\u001b[1;31mWebDriverException\u001b[0m                        Traceback (most recent call last)",
      "\u001b[1;32mc:\\Users\\Millie\\Documents\\AiCore\\AiCore\\DataCollectionPipeline\\DataCollectionPipeline.ipynb Cell 1'\u001b[0m in \u001b[0;36m<cell line: 29>\u001b[1;34m()\u001b[0m\n\u001b[0;32m     <a href='vscode-notebook-cell:/c%3A/Users/Millie/Documents/AiCore/AiCore/DataCollectionPipeline/DataCollectionPipeline.ipynb#ch0000000?line=24'>25</a>\u001b[0m     \u001b[39m#time.sleep(3)\u001b[39;00m\n\u001b[0;32m     <a href='vscode-notebook-cell:/c%3A/Users/Millie/Documents/AiCore/AiCore/DataCollectionPipeline/DataCollectionPipeline.ipynb#ch0000000?line=25'>26</a>\u001b[0m     \u001b[39m#driver.quit()\u001b[39;00m\n\u001b[0;32m     <a href='vscode-notebook-cell:/c%3A/Users/Millie/Documents/AiCore/AiCore/DataCollectionPipeline/DataCollectionPipeline.ipynb#ch0000000?line=27'>28</a>\u001b[0m scraper\u001b[39m.\u001b[39mgetDriver()\n\u001b[1;32m---> <a href='vscode-notebook-cell:/c%3A/Users/Millie/Documents/AiCore/AiCore/DataCollectionPipeline/DataCollectionPipeline.ipynb#ch0000000?line=28'>29</a>\u001b[0m scraper\u001b[39m.\u001b[39;49mgetURL(\u001b[39m'\u001b[39;49m\u001b[39mhttps://www.pickuplimes.com/\u001b[39;49m\u001b[39m'\u001b[39;49m)\n\u001b[0;32m     <a href='vscode-notebook-cell:/c%3A/Users/Millie/Documents/AiCore/AiCore/DataCollectionPipeline/DataCollectionPipeline.ipynb#ch0000000?line=29'>30</a>\u001b[0m scraper\u001b[39m.\u001b[39mgetTitle()\n\u001b[0;32m     <a href='vscode-notebook-cell:/c%3A/Users/Millie/Documents/AiCore/AiCore/DataCollectionPipeline/DataCollectionPipeline.ipynb#ch0000000?line=31'>32</a>\u001b[0m \u001b[39mprint\u001b[39m(\u001b[39m\"\u001b[39m\u001b[39mEnd\u001b[39m\u001b[39m\"\u001b[39m)\n",
      "\u001b[1;32mc:\\Users\\Millie\\Documents\\AiCore\\AiCore\\DataCollectionPipeline\\DataCollectionPipeline.ipynb Cell 1'\u001b[0m in \u001b[0;36mscraper.getURL\u001b[1;34m(url)\u001b[0m\n\u001b[0;32m     <a href='vscode-notebook-cell:/c%3A/Users/Millie/Documents/AiCore/AiCore/DataCollectionPipeline/DataCollectionPipeline.ipynb#ch0000000?line=18'>19</a>\u001b[0m \u001b[39mdef\u001b[39;00m \u001b[39mgetURL\u001b[39m(url):\n\u001b[1;32m---> <a href='vscode-notebook-cell:/c%3A/Users/Millie/Documents/AiCore/AiCore/DataCollectionPipeline/DataCollectionPipeline.ipynb#ch0000000?line=19'>20</a>\u001b[0m     driver\u001b[39m.\u001b[39;49mget(url)\n",
      "File \u001b[1;32m~\\miniconda3\\envs\\DataCollectionPipeline\\lib\\site-packages\\selenium\\webdriver\\remote\\webdriver.py:437\u001b[0m, in \u001b[0;36mWebDriver.get\u001b[1;34m(self, url)\u001b[0m\n\u001b[0;32m    <a href='file:///c%3A/Users/Millie/miniconda3/envs/DataCollectionPipeline/lib/site-packages/selenium/webdriver/remote/webdriver.py?line=432'>433</a>\u001b[0m \u001b[39mdef\u001b[39;00m \u001b[39mget\u001b[39m(\u001b[39mself\u001b[39m, url: \u001b[39mstr\u001b[39m) \u001b[39m-\u001b[39m\u001b[39m>\u001b[39m \u001b[39mNone\u001b[39;00m:\n\u001b[0;32m    <a href='file:///c%3A/Users/Millie/miniconda3/envs/DataCollectionPipeline/lib/site-packages/selenium/webdriver/remote/webdriver.py?line=433'>434</a>\u001b[0m     \u001b[39m\"\"\"\u001b[39;00m\n\u001b[0;32m    <a href='file:///c%3A/Users/Millie/miniconda3/envs/DataCollectionPipeline/lib/site-packages/selenium/webdriver/remote/webdriver.py?line=434'>435</a>\u001b[0m \u001b[39m    Loads a web page in the current browser session.\u001b[39;00m\n\u001b[0;32m    <a href='file:///c%3A/Users/Millie/miniconda3/envs/DataCollectionPipeline/lib/site-packages/selenium/webdriver/remote/webdriver.py?line=435'>436</a>\u001b[0m \u001b[39m    \"\"\"\u001b[39;00m\n\u001b[1;32m--> <a href='file:///c%3A/Users/Millie/miniconda3/envs/DataCollectionPipeline/lib/site-packages/selenium/webdriver/remote/webdriver.py?line=436'>437</a>\u001b[0m     \u001b[39mself\u001b[39;49m\u001b[39m.\u001b[39;49mexecute(Command\u001b[39m.\u001b[39;49mGET, {\u001b[39m'\u001b[39;49m\u001b[39murl\u001b[39;49m\u001b[39m'\u001b[39;49m: url})\n",
      "File \u001b[1;32m~\\miniconda3\\envs\\DataCollectionPipeline\\lib\\site-packages\\selenium\\webdriver\\remote\\webdriver.py:425\u001b[0m, in \u001b[0;36mWebDriver.execute\u001b[1;34m(self, driver_command, params)\u001b[0m\n\u001b[0;32m    <a href='file:///c%3A/Users/Millie/miniconda3/envs/DataCollectionPipeline/lib/site-packages/selenium/webdriver/remote/webdriver.py?line=422'>423</a>\u001b[0m response \u001b[39m=\u001b[39m \u001b[39mself\u001b[39m\u001b[39m.\u001b[39mcommand_executor\u001b[39m.\u001b[39mexecute(driver_command, params)\n\u001b[0;32m    <a href='file:///c%3A/Users/Millie/miniconda3/envs/DataCollectionPipeline/lib/site-packages/selenium/webdriver/remote/webdriver.py?line=423'>424</a>\u001b[0m \u001b[39mif\u001b[39;00m response:\n\u001b[1;32m--> <a href='file:///c%3A/Users/Millie/miniconda3/envs/DataCollectionPipeline/lib/site-packages/selenium/webdriver/remote/webdriver.py?line=424'>425</a>\u001b[0m     \u001b[39mself\u001b[39;49m\u001b[39m.\u001b[39;49merror_handler\u001b[39m.\u001b[39;49mcheck_response(response)\n\u001b[0;32m    <a href='file:///c%3A/Users/Millie/miniconda3/envs/DataCollectionPipeline/lib/site-packages/selenium/webdriver/remote/webdriver.py?line=425'>426</a>\u001b[0m     response[\u001b[39m'\u001b[39m\u001b[39mvalue\u001b[39m\u001b[39m'\u001b[39m] \u001b[39m=\u001b[39m \u001b[39mself\u001b[39m\u001b[39m.\u001b[39m_unwrap_value(\n\u001b[0;32m    <a href='file:///c%3A/Users/Millie/miniconda3/envs/DataCollectionPipeline/lib/site-packages/selenium/webdriver/remote/webdriver.py?line=426'>427</a>\u001b[0m         response\u001b[39m.\u001b[39mget(\u001b[39m'\u001b[39m\u001b[39mvalue\u001b[39m\u001b[39m'\u001b[39m, \u001b[39mNone\u001b[39;00m))\n\u001b[0;32m    <a href='file:///c%3A/Users/Millie/miniconda3/envs/DataCollectionPipeline/lib/site-packages/selenium/webdriver/remote/webdriver.py?line=427'>428</a>\u001b[0m     \u001b[39mreturn\u001b[39;00m response\n",
      "File \u001b[1;32m~\\miniconda3\\envs\\DataCollectionPipeline\\lib\\site-packages\\selenium\\webdriver\\remote\\errorhandler.py:247\u001b[0m, in \u001b[0;36mErrorHandler.check_response\u001b[1;34m(self, response)\u001b[0m\n\u001b[0;32m    <a href='file:///c%3A/Users/Millie/miniconda3/envs/DataCollectionPipeline/lib/site-packages/selenium/webdriver/remote/errorhandler.py?line=244'>245</a>\u001b[0m         alert_text \u001b[39m=\u001b[39m value[\u001b[39m'\u001b[39m\u001b[39malert\u001b[39m\u001b[39m'\u001b[39m]\u001b[39m.\u001b[39mget(\u001b[39m'\u001b[39m\u001b[39mtext\u001b[39m\u001b[39m'\u001b[39m)\n\u001b[0;32m    <a href='file:///c%3A/Users/Millie/miniconda3/envs/DataCollectionPipeline/lib/site-packages/selenium/webdriver/remote/errorhandler.py?line=245'>246</a>\u001b[0m     \u001b[39mraise\u001b[39;00m exception_class(message, screen, stacktrace, alert_text)  \u001b[39m# type: ignore[call-arg]  # mypy is not smart enough here\u001b[39;00m\n\u001b[1;32m--> <a href='file:///c%3A/Users/Millie/miniconda3/envs/DataCollectionPipeline/lib/site-packages/selenium/webdriver/remote/errorhandler.py?line=246'>247</a>\u001b[0m \u001b[39mraise\u001b[39;00m exception_class(message, screen, stacktrace)\n",
      "\u001b[1;31mWebDriverException\u001b[0m: Message: chrome not reachable\n  (Session info: chrome=99.0.4844.84)\nStacktrace:\nBacktrace:\n\tOrdinal0 [0x006E9943+2595139]\n\tOrdinal0 [0x0067C9F1+2148849]\n\tOrdinal0 [0x005743F0+1065968]\n\tOrdinal0 [0x005687C2+1017794]\n\tOrdinal0 [0x00568FF8+1019896]\n\tOrdinal0 [0x0056A892+1026194]\n\tOrdinal0 [0x00564219+999961]\n\tOrdinal0 [0x00575860+1071200]\n\tOrdinal0 [0x005CB2D2+1422034]\n\tOrdinal0 [0x005BB806+1357830]\n\tOrdinal0 [0x00596086+1204358]\n\tOrdinal0 [0x00596F96+1208214]\n\tGetHandleVerifier [0x0088B232+1658114]\n\tGetHandleVerifier [0x0094312C+2411516]\n\tGetHandleVerifier [0x0077F261+560433]\n\tGetHandleVerifier [0x0077E366+556598]\n\tOrdinal0 [0x0068286B+2173035]\n\tOrdinal0 [0x006875F8+2192888]\n\tOrdinal0 [0x006876E5+2193125]\n\tOrdinal0 [0x006911FC+2232828]\n\tBaseThreadInitThunk [0x7756FA29+25]\n\tRtlGetAppContainerNamedObjectPath [0x77AA7A7E+286]\n\tRtlGetAppContainerNamedObjectPath [0x77AA7A4E+238]\n"
     ]
    }
   ],
   "source": [
    "import requests\n",
    "import time\n",
    "\n",
    "from selenium import webdriver\n",
    "from selenium.webdriver import Chrome\n",
    "#from selenium.webdriver.chrome.options import Options\n",
    "#from selenium.webdriver.common.keys import Keys\n",
    "#from selenium.webdriver.common.by import By\n",
    "#from selenium.webdriver.support.ui import WebDriverWait\n",
    "#from webdriver_manager.chrome import ChromeDriverManager\n",
    "\n",
    "driver = webdriver.Chrome()\n",
    "\n",
    "class scraper:\n",
    "\n",
    "    def getURL(url):\n",
    "        driver.get(url) \n",
    "\n",
    "    def getTitle():\n",
    "        print(driver.title)\n",
    "\n",
    "    #time.sleep(3)\n",
    "    #driver.quit()\n",
    "\n",
    "scraper.getURL('https://www.pickuplimes.com/')\n",
    "scraper.getTitle()\n",
    "\n",
    "print(\"End\")"
   ]
  },
  {
   "cell_type": "code",
   "execution_count": 130,
   "metadata": {},
   "outputs": [
    {
     "name": "stdout",
     "output_type": "stream",
     "text": [
      "gdpr-consent-notice\n",
      "Switched to frame\n"
     ]
    }
   ],
   "source": [
    "# ZOOPLA\n",
    "from selenium import webdriver \n",
    "from selenium.webdriver.common.by import By\n",
    "from selenium.webdriver.common.keys import Keys\n",
    "import time\n",
    "\n",
    "driver = webdriver.Chrome()  \n",
    "url = \"https://zoopla.co.uk\" \n",
    "driver.get(url)\n",
    "\n",
    "time.sleep(5) # Slow it down otherwise it will miss the button \n",
    "\n",
    "cookie_button = \"Accept all cookies\"\n",
    "driver.find_element(By.LINK_TEXT, cookie_button)\n",
    "\n",
    "try: \n",
    "    frame_id = \"gdpr-consent-notice\"\n",
    "    driver.switch_to.frame(frame_id)\n",
    "    print(\"Switched to frame\")\n",
    "\n",
    "    #accept_cookies_button = driver.find_element(By.XPATH, '/*[@id=\"save\"]/span[1]/div/span') # XPath for button\n",
    "    #print(\"Found Button\")\n",
    "except:\n",
    "    print(\"No Cookie Button\")\n",
    "    pass\n",
    "\n",
    "time.sleep(3)\n",
    "driver.quit()\n",
    "#try:\n",
    "    #accept_cookies_button = driver.find_element(By.Tag_Name, \"button\") # XPath for button\n",
    "    #print(\"Find Button\")\n",
    "    #accept_cookies_button.click() # Click the button \n",
    "    # If there isn't a cookie button \n",
    "#except: \n",
    "    #print(\"No Cookies Detected\")\n",
    "    #pass"
   ]
  },
  {
   "cell_type": "code",
   "execution_count": 20,
   "metadata": {},
   "outputs": [
    {
     "name": "stdout",
     "output_type": "stream",
     "text": [
      "[1, 2, 3, 1, 2, 3]\n"
     ]
    }
   ],
   "source": [
    "my_list = [1, 2, 3]\n",
    "print(my_list * 2)\n"
   ]
  }
 ],
 "metadata": {
  "interpreter": {
   "hash": "c4aa49906c49aab2699de75d29353ef6218c1548a647ded36ad1d3c83fbb1a8d"
  },
  "kernelspec": {
   "display_name": "Python 3.9.7 ('DataCollectionPipeline')",
   "language": "python",
   "name": "python3"
  },
  "language_info": {
   "codemirror_mode": {
    "name": "ipython",
    "version": 3
   },
   "file_extension": ".py",
   "mimetype": "text/x-python",
   "name": "python",
   "nbconvert_exporter": "python",
   "pygments_lexer": "ipython3",
   "version": "3.9.7"
  },
  "orig_nbformat": 4
 },
 "nbformat": 4,
 "nbformat_minor": 2
}
