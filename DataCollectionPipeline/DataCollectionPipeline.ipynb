{
 "cells": [
  {
   "cell_type": "code",
   "execution_count": 21,
   "metadata": {},
   "outputs": [
    {
     "name": "stdout",
     "output_type": "stream",
     "text": [
      "Pick Up Limes\n",
      "End\n"
     ]
    }
   ],
   "source": [
    "import requests\n",
    "import time\n",
    "\n",
    "from selenium import webdriver\n",
    "from selenium.webdriver import Chrome\n",
    "#from selenium.webdriver.chrome.options import Options\n",
    "#from selenium.webdriver.common.keys import Keys\n",
    "#from selenium.webdriver.common.by import By\n",
    "#from selenium.webdriver.support.ui import WebDriverWait\n",
    "#from webdriver_manager.chrome import ChromeDriverManager\n",
    "\n",
    "driver = webdriver.Chrome()\n",
    "\n",
    "class scraper:\n",
    "\n",
    "    def getURL(url):\n",
    "        driver.get(url) \n",
    "\n",
    "    def getTitle():\n",
    "        print(driver.title)\n",
    "\n",
    "    def quit():\n",
    "        time.sleep(3)\n",
    "        driver.quit()\n",
    "\n",
    "scraper.getURL('https://www.pickuplimes.com/')\n",
    "scraper.getTitle()\n",
    "scraper.quit()\n",
    "\n",
    "print(\"End\")"
   ]
  },
  {
   "cell_type": "code",
   "execution_count": 130,
   "metadata": {},
   "outputs": [
    {
     "name": "stdout",
     "output_type": "stream",
     "text": [
      "gdpr-consent-notice\n",
      "Switched to frame\n"
     ]
    }
   ],
   "source": [
    "# ZOOPLA\n",
    "from selenium import webdriver \n",
    "from selenium.webdriver.common.by import By\n",
    "from selenium.webdriver.common.keys import Keys\n",
    "import time\n",
    "\n",
    "driver = webdriver.Chrome()  \n",
    "url = \"https://zoopla.co.uk\" \n",
    "driver.get(url)\n",
    "\n",
    "time.sleep(5) # Slow it down otherwise it will miss the button \n",
    "\n",
    "cookie_button = \"Accept all cookies\"\n",
    "driver.find_element(By.LINK_TEXT, cookie_button)\n",
    "\n",
    "try: \n",
    "    frame_id = \"gdpr-consent-notice\"\n",
    "    driver.switch_to.frame(frame_id)\n",
    "    print(\"Switched to frame\")\n",
    "\n",
    "    #accept_cookies_button = driver.find_element(By.XPATH, '/*[@id=\"save\"]/span[1]/div/span') # XPath for button\n",
    "    #print(\"Found Button\")\n",
    "except:\n",
    "    print(\"No Cookie Button\")\n",
    "    pass\n",
    "\n",
    "time.sleep(3)\n",
    "driver.quit()\n",
    "#try:\n",
    "    #accept_cookies_button = driver.find_element(By.Tag_Name, \"button\") # XPath for button\n",
    "    #print(\"Find Button\")\n",
    "    #accept_cookies_button.click() # Click the button \n",
    "    # If there isn't a cookie button \n",
    "#except: \n",
    "    #print(\"No Cookies Detected\")\n",
    "    #pass"
   ]
  },
  {
   "cell_type": "code",
   "execution_count": 20,
   "metadata": {},
   "outputs": [
    {
     "name": "stdout",
     "output_type": "stream",
     "text": [
      "[1, 2, 3, 1, 2, 3]\n"
     ]
    }
   ],
   "source": [
    "my_list = [1, 2, 3]\n",
    "print(my_list * 2)\n"
   ]
  }
 ],
 "metadata": {
  "interpreter": {
   "hash": "c4aa49906c49aab2699de75d29353ef6218c1548a647ded36ad1d3c83fbb1a8d"
  },
  "kernelspec": {
   "display_name": "Python 3.9.7 ('DataCollectionPipeline')",
   "language": "python",
   "name": "python3"
  },
  "language_info": {
   "codemirror_mode": {
    "name": "ipython",
    "version": 3
   },
   "file_extension": ".py",
   "mimetype": "text/x-python",
   "name": "python",
   "nbconvert_exporter": "python",
   "pygments_lexer": "ipython3",
   "version": "3.9.7"
  },
  "orig_nbformat": 4
 },
 "nbformat": 4,
 "nbformat_minor": 2
}
