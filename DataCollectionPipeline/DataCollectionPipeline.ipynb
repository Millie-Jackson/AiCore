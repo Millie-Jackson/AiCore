{
 "cells": [
  {
   "cell_type": "code",
   "execution_count": 19,
   "metadata": {},
   "outputs": [
    {
     "name": "stdout",
     "output_type": "stream",
     "text": [
      "<Response [200]>\n",
      "End\n"
     ]
    }
   ],
   "source": [
    "#import numpy as np\n",
    "#import pandas as pd\n",
    "import requests\n",
    "#from bs4 import BeautifulSoup\n",
    "\n",
    "from selenium import webdriver\n",
    "driver = webdriver.Chrome()\n",
    "#from selenium.webdriver import Chrome\n",
    "from selenium.webdriver.chrome.options import Options\n",
    "from selenium.webdriver.common.keys import Keys\n",
    "from selenium.webdriver.common.by import By\n",
    "from selenium.webdriver.support.ui import WebDriverWait\n",
    "#from webdriver_manager.chrome import ChromeDriverManager\n",
    "\n",
    "class Scraper:\n",
    "\n",
    "    url = requests.get('https://www.pickuplimes.com/')\n",
    "    print(url)\n",
    "\n",
    "Scraper()\n",
    "print(\"End\")"
   ]
  },
  {
   "cell_type": "code",
   "execution_count": 118,
   "metadata": {},
   "outputs": [
    {
     "ename": "NoSuchElementException",
     "evalue": "Message: no such element: Unable to locate element: {\"method\":\"css selector\",\"selector\":\"[id=\"save\"]\"}\n  (Session info: chrome=99.0.4844.84)\nStacktrace:\nBacktrace:\n\tOrdinal0 [0x006E9943+2595139]\n\tOrdinal0 [0x0067C9F1+2148849]\n\tOrdinal0 [0x00574528+1066280]\n\tOrdinal0 [0x005A0FD4+1249236]\n\tOrdinal0 [0x005A11CB+1249739]\n\tOrdinal0 [0x005CD812+1431570]\n\tOrdinal0 [0x005BBA34+1358388]\n\tOrdinal0 [0x005CBAF2+1424114]\n\tOrdinal0 [0x005BB806+1357830]\n\tOrdinal0 [0x00596086+1204358]\n\tOrdinal0 [0x00596F96+1208214]\n\tGetHandleVerifier [0x0088B232+1658114]\n\tGetHandleVerifier [0x0094312C+2411516]\n\tGetHandleVerifier [0x0077F261+560433]\n\tGetHandleVerifier [0x0077E366+556598]\n\tOrdinal0 [0x0068286B+2173035]\n\tOrdinal0 [0x006875F8+2192888]\n\tOrdinal0 [0x006876E5+2193125]\n\tOrdinal0 [0x006911FC+2232828]\n\tBaseThreadInitThunk [0x7756FA29+25]\n\tRtlGetAppContainerNamedObjectPath [0x77AA7A7E+286]\n\tRtlGetAppContainerNamedObjectPath [0x77AA7A4E+238]\n",
     "output_type": "error",
     "traceback": [
      "\u001b[1;31m---------------------------------------------------------------------------\u001b[0m",
      "\u001b[1;31mNoSuchElementException\u001b[0m                    Traceback (most recent call last)",
      "\u001b[1;32mc:\\Users\\Millie\\Documents\\AiCore\\AiCore\\DataCollectionPipeline\\DataCollectionPipeline.ipynb Cell 2'\u001b[0m in \u001b[0;36m<cell line: 14>\u001b[1;34m()\u001b[0m\n\u001b[0;32m     <a href='vscode-notebook-cell:/c%3A/Users/Millie/Documents/AiCore/AiCore/DataCollectionPipeline/DataCollectionPipeline.ipynb#ch0000009?line=10'>11</a>\u001b[0m time\u001b[39m.\u001b[39msleep(\u001b[39m5\u001b[39m) \u001b[39m# Slow it down otherwise it will miss the button \u001b[39;00m\n\u001b[0;32m     <a href='vscode-notebook-cell:/c%3A/Users/Millie/Documents/AiCore/AiCore/DataCollectionPipeline/DataCollectionPipeline.ipynb#ch0000009?line=12'>13</a>\u001b[0m cookie_button \u001b[39m=\u001b[39m \u001b[39m\"\u001b[39m\u001b[39mmat-focus-indicator\u001b[39m\u001b[39m\"\u001b[39m\n\u001b[1;32m---> <a href='vscode-notebook-cell:/c%3A/Users/Millie/Documents/AiCore/AiCore/DataCollectionPipeline/DataCollectionPipeline.ipynb#ch0000009?line=13'>14</a>\u001b[0m driver\u001b[39m.\u001b[39;49mfind_element(By\u001b[39m.\u001b[39;49mID, \u001b[39m\"\u001b[39;49m\u001b[39msave\u001b[39;49m\u001b[39m\"\u001b[39;49m)\n\u001b[0;32m     <a href='vscode-notebook-cell:/c%3A/Users/Millie/Documents/AiCore/AiCore/DataCollectionPipeline/DataCollectionPipeline.ipynb#ch0000009?line=15'>16</a>\u001b[0m \u001b[39mtry\u001b[39;00m: \n\u001b[0;32m     <a href='vscode-notebook-cell:/c%3A/Users/Millie/Documents/AiCore/AiCore/DataCollectionPipeline/DataCollectionPipeline.ipynb#ch0000009?line=16'>17</a>\u001b[0m     frame_id \u001b[39m=\u001b[39m \u001b[39m\"\u001b[39m\u001b[39mgdpr-consent-notice\u001b[39m\u001b[39m\"\u001b[39m\n",
      "File \u001b[1;32m~\\miniconda3\\envs\\DataCollectionPipeline\\lib\\site-packages\\selenium\\webdriver\\remote\\webdriver.py:1248\u001b[0m, in \u001b[0;36mWebDriver.find_element\u001b[1;34m(self, by, value)\u001b[0m\n\u001b[0;32m   <a href='file:///c%3A/Users/Millie/miniconda3/envs/DataCollectionPipeline/lib/site-packages/selenium/webdriver/remote/webdriver.py?line=1244'>1245</a>\u001b[0m     by \u001b[39m=\u001b[39m By\u001b[39m.\u001b[39mCSS_SELECTOR\n\u001b[0;32m   <a href='file:///c%3A/Users/Millie/miniconda3/envs/DataCollectionPipeline/lib/site-packages/selenium/webdriver/remote/webdriver.py?line=1245'>1246</a>\u001b[0m     value \u001b[39m=\u001b[39m \u001b[39m'\u001b[39m\u001b[39m[name=\u001b[39m\u001b[39m\"\u001b[39m\u001b[39m%s\u001b[39;00m\u001b[39m\"\u001b[39m\u001b[39m]\u001b[39m\u001b[39m'\u001b[39m \u001b[39m%\u001b[39m value\n\u001b[1;32m-> <a href='file:///c%3A/Users/Millie/miniconda3/envs/DataCollectionPipeline/lib/site-packages/selenium/webdriver/remote/webdriver.py?line=1247'>1248</a>\u001b[0m \u001b[39mreturn\u001b[39;00m \u001b[39mself\u001b[39;49m\u001b[39m.\u001b[39;49mexecute(Command\u001b[39m.\u001b[39;49mFIND_ELEMENT, {\n\u001b[0;32m   <a href='file:///c%3A/Users/Millie/miniconda3/envs/DataCollectionPipeline/lib/site-packages/selenium/webdriver/remote/webdriver.py?line=1248'>1249</a>\u001b[0m     \u001b[39m'\u001b[39;49m\u001b[39musing\u001b[39;49m\u001b[39m'\u001b[39;49m: by,\n\u001b[0;32m   <a href='file:///c%3A/Users/Millie/miniconda3/envs/DataCollectionPipeline/lib/site-packages/selenium/webdriver/remote/webdriver.py?line=1249'>1250</a>\u001b[0m     \u001b[39m'\u001b[39;49m\u001b[39mvalue\u001b[39;49m\u001b[39m'\u001b[39;49m: value})[\u001b[39m'\u001b[39m\u001b[39mvalue\u001b[39m\u001b[39m'\u001b[39m]\n",
      "File \u001b[1;32m~\\miniconda3\\envs\\DataCollectionPipeline\\lib\\site-packages\\selenium\\webdriver\\remote\\webdriver.py:425\u001b[0m, in \u001b[0;36mWebDriver.execute\u001b[1;34m(self, driver_command, params)\u001b[0m\n\u001b[0;32m    <a href='file:///c%3A/Users/Millie/miniconda3/envs/DataCollectionPipeline/lib/site-packages/selenium/webdriver/remote/webdriver.py?line=422'>423</a>\u001b[0m response \u001b[39m=\u001b[39m \u001b[39mself\u001b[39m\u001b[39m.\u001b[39mcommand_executor\u001b[39m.\u001b[39mexecute(driver_command, params)\n\u001b[0;32m    <a href='file:///c%3A/Users/Millie/miniconda3/envs/DataCollectionPipeline/lib/site-packages/selenium/webdriver/remote/webdriver.py?line=423'>424</a>\u001b[0m \u001b[39mif\u001b[39;00m response:\n\u001b[1;32m--> <a href='file:///c%3A/Users/Millie/miniconda3/envs/DataCollectionPipeline/lib/site-packages/selenium/webdriver/remote/webdriver.py?line=424'>425</a>\u001b[0m     \u001b[39mself\u001b[39;49m\u001b[39m.\u001b[39;49merror_handler\u001b[39m.\u001b[39;49mcheck_response(response)\n\u001b[0;32m    <a href='file:///c%3A/Users/Millie/miniconda3/envs/DataCollectionPipeline/lib/site-packages/selenium/webdriver/remote/webdriver.py?line=425'>426</a>\u001b[0m     response[\u001b[39m'\u001b[39m\u001b[39mvalue\u001b[39m\u001b[39m'\u001b[39m] \u001b[39m=\u001b[39m \u001b[39mself\u001b[39m\u001b[39m.\u001b[39m_unwrap_value(\n\u001b[0;32m    <a href='file:///c%3A/Users/Millie/miniconda3/envs/DataCollectionPipeline/lib/site-packages/selenium/webdriver/remote/webdriver.py?line=426'>427</a>\u001b[0m         response\u001b[39m.\u001b[39mget(\u001b[39m'\u001b[39m\u001b[39mvalue\u001b[39m\u001b[39m'\u001b[39m, \u001b[39mNone\u001b[39;00m))\n\u001b[0;32m    <a href='file:///c%3A/Users/Millie/miniconda3/envs/DataCollectionPipeline/lib/site-packages/selenium/webdriver/remote/webdriver.py?line=427'>428</a>\u001b[0m     \u001b[39mreturn\u001b[39;00m response\n",
      "File \u001b[1;32m~\\miniconda3\\envs\\DataCollectionPipeline\\lib\\site-packages\\selenium\\webdriver\\remote\\errorhandler.py:247\u001b[0m, in \u001b[0;36mErrorHandler.check_response\u001b[1;34m(self, response)\u001b[0m\n\u001b[0;32m    <a href='file:///c%3A/Users/Millie/miniconda3/envs/DataCollectionPipeline/lib/site-packages/selenium/webdriver/remote/errorhandler.py?line=244'>245</a>\u001b[0m         alert_text \u001b[39m=\u001b[39m value[\u001b[39m'\u001b[39m\u001b[39malert\u001b[39m\u001b[39m'\u001b[39m]\u001b[39m.\u001b[39mget(\u001b[39m'\u001b[39m\u001b[39mtext\u001b[39m\u001b[39m'\u001b[39m)\n\u001b[0;32m    <a href='file:///c%3A/Users/Millie/miniconda3/envs/DataCollectionPipeline/lib/site-packages/selenium/webdriver/remote/errorhandler.py?line=245'>246</a>\u001b[0m     \u001b[39mraise\u001b[39;00m exception_class(message, screen, stacktrace, alert_text)  \u001b[39m# type: ignore[call-arg]  # mypy is not smart enough here\u001b[39;00m\n\u001b[1;32m--> <a href='file:///c%3A/Users/Millie/miniconda3/envs/DataCollectionPipeline/lib/site-packages/selenium/webdriver/remote/errorhandler.py?line=246'>247</a>\u001b[0m \u001b[39mraise\u001b[39;00m exception_class(message, screen, stacktrace)\n",
      "\u001b[1;31mNoSuchElementException\u001b[0m: Message: no such element: Unable to locate element: {\"method\":\"css selector\",\"selector\":\"[id=\"save\"]\"}\n  (Session info: chrome=99.0.4844.84)\nStacktrace:\nBacktrace:\n\tOrdinal0 [0x006E9943+2595139]\n\tOrdinal0 [0x0067C9F1+2148849]\n\tOrdinal0 [0x00574528+1066280]\n\tOrdinal0 [0x005A0FD4+1249236]\n\tOrdinal0 [0x005A11CB+1249739]\n\tOrdinal0 [0x005CD812+1431570]\n\tOrdinal0 [0x005BBA34+1358388]\n\tOrdinal0 [0x005CBAF2+1424114]\n\tOrdinal0 [0x005BB806+1357830]\n\tOrdinal0 [0x00596086+1204358]\n\tOrdinal0 [0x00596F96+1208214]\n\tGetHandleVerifier [0x0088B232+1658114]\n\tGetHandleVerifier [0x0094312C+2411516]\n\tGetHandleVerifier [0x0077F261+560433]\n\tGetHandleVerifier [0x0077E366+556598]\n\tOrdinal0 [0x0068286B+2173035]\n\tOrdinal0 [0x006875F8+2192888]\n\tOrdinal0 [0x006876E5+2193125]\n\tOrdinal0 [0x006911FC+2232828]\n\tBaseThreadInitThunk [0x7756FA29+25]\n\tRtlGetAppContainerNamedObjectPath [0x77AA7A7E+286]\n\tRtlGetAppContainerNamedObjectPath [0x77AA7A4E+238]\n"
     ]
    }
   ],
   "source": [
    "# ZOOPLA\n",
    "from selenium import webdriver \n",
    "from selenium.webdriver.common.by import By\n",
    "from selenium.webdriver.common.keys import Keys\n",
    "import time\n",
    "\n",
    "driver = webdriver.Chrome()  \n",
    "url = \"https://zoopla.co.uk\" \n",
    "driver.get(url)\n",
    "\n",
    "time.sleep(5) # Slow it down otherwise it will miss the button \n",
    "\n",
    "cookie_button = \"mat-focus-indicator\"\n",
    "driver.find_element(By.ID, \"save\")\n",
    "\n",
    "try: \n",
    "    frame_id = \"gdpr-consent-notice\"\n",
    "    driver.switch_to.frame(frame_id)\n",
    "    print(frame_id)\n",
    "    print(\"Switched to frame\")\n",
    "\n",
    "    accept_cookies_button = driver.find_element(By.XPATH, '/*[@id=\"save\"]/span[1]/div/span') # XPath for button\n",
    "    print(\"Found Button\")\n",
    "except:\n",
    "    print(\"No Cookie Button\")\n",
    "    pass\n",
    "\n",
    "#try:\n",
    "    #accept_cookies_button = driver.find_element(By.Tag_Name, \"button\") # XPath for button\n",
    "    #print(\"Find Button\")\n",
    "    #accept_cookies_button.click() # Click the button \n",
    "    # If there isn't a cookie button \n",
    "#except: \n",
    "    #print(\"No Cookies Detected\")\n",
    "    #pass"
   ]
  },
  {
   "cell_type": "code",
   "execution_count": 75,
   "metadata": {},
   "outputs": [
    {
     "name": "stdout",
     "output_type": "stream",
     "text": [
      "Failed\n"
     ]
    }
   ],
   "source": [
    "# PROJECT\n",
    "from selenium import webdriver \n",
    "import time\n",
    "\n",
    "driver = webdriver.Chrome()  \n",
    "url = \"https://www.pickuplimes.com/\" \n",
    "driver.get(url)\n",
    "\n",
    "time.sleep(5)\n",
    "\n",
    "try:\n",
    "    #driver.switch_to().frame(driver.find_element(By.XPATH, \"/html/body/div\"))\n",
    "    #print(\"Found IFrame\")\n",
    "    accept_cookies_button = driver.find_element(By.XPATH, \"/html/body/div/div[2]/div[2]\")\n",
    "    print(\"Found button\")\n",
    "except:\n",
    "    print(\"Failed\")\n",
    "    pass"
   ]
  },
  {
   "cell_type": "code",
   "execution_count": 20,
   "metadata": {},
   "outputs": [
    {
     "name": "stdout",
     "output_type": "stream",
     "text": [
      "[1, 2, 3, 1, 2, 3]\n"
     ]
    }
   ],
   "source": [
    "my_list = [1, 2, 3]\n",
    "print(my_list * 2)\n"
   ]
  },
  {
   "cell_type": "code",
   "execution_count": 2,
   "metadata": {},
   "outputs": [],
   "source": [
    "import requests # Library # HTTP GET request to a website \n",
    "from bs4 import BeautifulSoup\n",
    "\n",
    "response = requests.get('https://pokeapi.co/api/v2/pokemon/pikachu')\n",
    "#print(response) # Prints 'Response [200]' which means 'yes I connected to the website'\n",
    "#print(response.text)\n",
    "#r = requests.get('http://pythonscraping.com/pages/page3.html') \n",
    "#html_string = r.text # Returns the response as a string \n",
    "#print(r.text)"
   ]
  },
  {
   "cell_type": "code",
   "execution_count": null,
   "metadata": {},
   "outputs": [],
   "source": [
    "# Create BeautifulSoup object \n",
    "page = requests.get('http://pythonscraping.com/pages/page3.html') \n",
    "html = page.text # GET page content \n",
    "soup = BeautifulSoup(html, 'html.parser') # Converts into a BeautifulSoup object \n",
    "print(soup.prettify())"
   ]
  },
  {
   "cell_type": "code",
   "execution_count": null,
   "metadata": {},
   "outputs": [],
   "source": [
    "# Access a specific element \n",
    "fish = soup.find(name='tr', attrs={'id': 'gift3', 'class': 'gift'}) \n",
    "print(fish) # Returns 'None' if it cant find it\n",
    "\n",
    "# Find all. Each element in the list is a column on the page \n",
    "fish_row = fish.find_all('td') # Returns a list of td tags \n",
    "title = fish_row[0].text \n",
    "description = fish_row[1].text \n",
    "price = fish_row[2].text \n",
    "print(title) \n",
    "print(description) \n",
    "print(price) \n",
    "\n",
    "parrot = fish.find_next_sibling()  \n",
    "parrot_children = fish.findChildren()"
   ]
  },
  {
   "cell_type": "code",
   "execution_count": 11,
   "metadata": {},
   "outputs": [
    {
     "name": "stdout",
     "output_type": "stream",
     "text": [
      "<h3><span class=\"mw-headline\" id=\"Indentation\">Indentation</span></h3>\n",
      "[<span class=\"mw-headline\" id=\"Indentation\">Indentation</span>]\n"
     ]
    },
    {
     "ename": "IndexError",
     "evalue": "list index out of range",
     "output_type": "error",
     "traceback": [
      "\u001b[1;31m---------------------------------------------------------------------------\u001b[0m",
      "\u001b[1;31mIndexError\u001b[0m                                Traceback (most recent call last)",
      "Input \u001b[1;32mIn [11]\u001b[0m, in \u001b[0;36m<cell line: 11>\u001b[1;34m()\u001b[0m\n\u001b[0;32m      9\u001b[0m methods \u001b[39m=\u001b[39m header\u001b[39m.\u001b[39mfindChildren()\n\u001b[0;32m     10\u001b[0m \u001b[39mprint\u001b[39m(methods)\n\u001b[1;32m---> 11\u001b[0m body \u001b[39m=\u001b[39m methods[\u001b[39m1\u001b[39;49m]\u001b[39m.\u001b[39mtext\n\u001b[0;32m     12\u001b[0m \u001b[39mprint\u001b[39m(body)\n",
      "\u001b[1;31mIndexError\u001b[0m: list index out of range"
     ]
    }
   ],
   "source": [
    "# Create BeautifulSoup object \n",
    "url = requests.get('https://en.wikipedia.org/wiki/Python_(programming_language)') \n",
    "html = url.text # GET page content \n",
    "soup = BeautifulSoup(html, 'html.parser') # Converts into a BeautifulSoup object \n",
    "\n",
    "#header = soup.find(name='h3', attrs={'class': 'mw-headline', 'id': 'Methods'}) \n",
    "header = soup.find(\"h3\")\n",
    "print(header) # Returns 'None' if it cant find it\n",
    "methods = header.findChildren()\n",
    "print(methods)\n",
    "body = methods[1].text\n",
    "print(body)"
   ]
  }
 ],
 "metadata": {
  "interpreter": {
   "hash": "c4aa49906c49aab2699de75d29353ef6218c1548a647ded36ad1d3c83fbb1a8d"
  },
  "kernelspec": {
   "display_name": "Python 3.9.7 ('DataCollectionPipeline')",
   "language": "python",
   "name": "python3"
  },
  "language_info": {
   "codemirror_mode": {
    "name": "ipython",
    "version": 3
   },
   "file_extension": ".py",
   "mimetype": "text/x-python",
   "name": "python",
   "nbconvert_exporter": "python",
   "pygments_lexer": "ipython3",
   "version": "3.9.7"
  },
  "orig_nbformat": 4
 },
 "nbformat": 4,
 "nbformat_minor": 2
}
