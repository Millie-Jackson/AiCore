{
 "cells": [
  {
   "cell_type": "code",
   "execution_count": 2,
   "metadata": {},
   "outputs": [
    {
     "name": "stdout",
     "output_type": "stream",
     "text": [
      "End\n"
     ]
    }
   ],
   "source": [
    "import numpy as np\n",
    "\n",
    "print(\"End\")"
   ]
  },
  {
   "cell_type": "code",
   "execution_count": 20,
   "metadata": {},
   "outputs": [
    {
     "name": "stdout",
     "output_type": "stream",
     "text": [
      "[1, 2, 3, 1, 2, 3]\n"
     ]
    }
   ],
   "source": [
    "my_list = [1, 2, 3]\n",
    "print(my_list * 2)\n"
   ]
  },
  {
   "cell_type": "code",
   "execution_count": null,
   "metadata": {},
   "outputs": [],
   "source": [
    "import requests # Library # HTTP GET request to a website \n",
    "from bs4 import BeautifulSoup\n",
    "\n",
    "response = requests.get('https://pokeapi.co/api/v2/pokemon/pikachu')\n",
    "#print(response) # Prints 'Response [200]' which means 'yes I connected to the website'\n",
    "#print(response.text)\n",
    "#r = requests.get('http://pythonscraping.com/pages/page3.html') \n",
    "#html_string = r.text # Returns the response as a string \n",
    "#print(r.text)"
   ]
  },
  {
   "cell_type": "code",
   "execution_count": null,
   "metadata": {},
   "outputs": [],
   "source": [
    "# Create BeautifulSoup object \n",
    "page = requests.get('http://pythonscraping.com/pages/page3.html') \n",
    "html = page.text # GET page content \n",
    "soup = BeautifulSoup(html, 'html.parser') # Converts into a BeautifulSoup object \n",
    "print(soup.prettify())"
   ]
  },
  {
   "cell_type": "code",
   "execution_count": null,
   "metadata": {},
   "outputs": [],
   "source": [
    "# Access a specific element \n",
    "fish = soup.find(name='tr', attrs={'id': 'gift3', 'class': 'gift'}) \n",
    "print(fish) # Returns 'None' if it cant find it\n",
    "\n",
    "# Find all. Each element in the list is a column on the page \n",
    "fish_row = fish.find_all('td') # Returns a list of td tags \n",
    "title = fish_row[0].text \n",
    "description = fish_row[1].text \n",
    "price = fish_row[2].text \n",
    "print(title) \n",
    "print(description) \n",
    "print(price) \n",
    "\n",
    "parrot = fish.find_next_sibling()  \n",
    "parrot_children = fish.findChildren()"
   ]
  },
  {
   "cell_type": "code",
   "execution_count": 48,
   "metadata": {},
   "outputs": [],
   "source": [
    "# Create BeautifulSoup object \n",
    "url = requests.get('https://en.wikipedia.org/wiki/Python_(programming_language)') \n",
    "html = url.text # GET page content \n",
    "soup = BeautifulSoup(html, 'html.parser') # Converts into a BeautifulSoup object "
   ]
  }
 ],
 "metadata": {
  "interpreter": {
   "hash": "c4aa49906c49aab2699de75d29353ef6218c1548a647ded36ad1d3c83fbb1a8d"
  },
  "kernelspec": {
   "display_name": "Python 3.9.7 ('DataCollectionPipeline')",
   "language": "python",
   "name": "python3"
  },
  "language_info": {
   "codemirror_mode": {
    "name": "ipython",
    "version": 3
   },
   "file_extension": ".py",
   "mimetype": "text/x-python",
   "name": "python",
   "nbconvert_exporter": "python",
   "pygments_lexer": "ipython3",
   "version": "3.9.7"
  },
  "orig_nbformat": 4
 },
 "nbformat": 4,
 "nbformat_minor": 2
}
