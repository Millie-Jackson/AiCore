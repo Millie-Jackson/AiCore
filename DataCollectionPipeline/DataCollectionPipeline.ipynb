{
 "cells": [
  {
   "cell_type": "code",
   "execution_count": 15,
   "metadata": {},
   "outputs": [
    {
     "name": "stdout",
     "output_type": "stream",
     "text": [
      "<Response [200]>\n",
      "End\n"
     ]
    }
   ],
   "source": [
    "#import numpy as np\n",
    "import pandas as pd\n",
    "import requests\n",
    "from bs4 import BeautifulSoup\n",
    "\n",
    "class Scraper:\n",
    "\n",
    "    url = requests.get('https://www.pickuplimes.com/')\n",
    "    print(url)\n",
    "\n",
    "Scraper()\n",
    "print(\"End\")"
   ]
  },
  {
   "cell_type": "code",
   "execution_count": 20,
   "metadata": {},
   "outputs": [
    {
     "name": "stdout",
     "output_type": "stream",
     "text": [
      "[1, 2, 3, 1, 2, 3]\n"
     ]
    }
   ],
   "source": [
    "my_list = [1, 2, 3]\n",
    "print(my_list * 2)\n"
   ]
  },
  {
   "cell_type": "code",
   "execution_count": 2,
   "metadata": {},
   "outputs": [],
   "source": [
    "import requests # Library # HTTP GET request to a website \n",
    "from bs4 import BeautifulSoup\n",
    "\n",
    "response = requests.get('https://pokeapi.co/api/v2/pokemon/pikachu')\n",
    "#print(response) # Prints 'Response [200]' which means 'yes I connected to the website'\n",
    "#print(response.text)\n",
    "#r = requests.get('http://pythonscraping.com/pages/page3.html') \n",
    "#html_string = r.text # Returns the response as a string \n",
    "#print(r.text)"
   ]
  },
  {
   "cell_type": "code",
   "execution_count": null,
   "metadata": {},
   "outputs": [],
   "source": [
    "# Create BeautifulSoup object \n",
    "page = requests.get('http://pythonscraping.com/pages/page3.html') \n",
    "html = page.text # GET page content \n",
    "soup = BeautifulSoup(html, 'html.parser') # Converts into a BeautifulSoup object \n",
    "print(soup.prettify())"
   ]
  },
  {
   "cell_type": "code",
   "execution_count": null,
   "metadata": {},
   "outputs": [],
   "source": [
    "# Access a specific element \n",
    "fish = soup.find(name='tr', attrs={'id': 'gift3', 'class': 'gift'}) \n",
    "print(fish) # Returns 'None' if it cant find it\n",
    "\n",
    "# Find all. Each element in the list is a column on the page \n",
    "fish_row = fish.find_all('td') # Returns a list of td tags \n",
    "title = fish_row[0].text \n",
    "description = fish_row[1].text \n",
    "price = fish_row[2].text \n",
    "print(title) \n",
    "print(description) \n",
    "print(price) \n",
    "\n",
    "parrot = fish.find_next_sibling()  \n",
    "parrot_children = fish.findChildren()"
   ]
  },
  {
   "cell_type": "code",
   "execution_count": 11,
   "metadata": {},
   "outputs": [
    {
     "name": "stdout",
     "output_type": "stream",
     "text": [
      "<h3><span class=\"mw-headline\" id=\"Indentation\">Indentation</span></h3>\n",
      "[<span class=\"mw-headline\" id=\"Indentation\">Indentation</span>]\n"
     ]
    },
    {
     "ename": "IndexError",
     "evalue": "list index out of range",
     "output_type": "error",
     "traceback": [
      "\u001b[1;31m---------------------------------------------------------------------------\u001b[0m",
      "\u001b[1;31mIndexError\u001b[0m                                Traceback (most recent call last)",
      "Input \u001b[1;32mIn [11]\u001b[0m, in \u001b[0;36m<cell line: 11>\u001b[1;34m()\u001b[0m\n\u001b[0;32m      9\u001b[0m methods \u001b[39m=\u001b[39m header\u001b[39m.\u001b[39mfindChildren()\n\u001b[0;32m     10\u001b[0m \u001b[39mprint\u001b[39m(methods)\n\u001b[1;32m---> 11\u001b[0m body \u001b[39m=\u001b[39m methods[\u001b[39m1\u001b[39;49m]\u001b[39m.\u001b[39mtext\n\u001b[0;32m     12\u001b[0m \u001b[39mprint\u001b[39m(body)\n",
      "\u001b[1;31mIndexError\u001b[0m: list index out of range"
     ]
    }
   ],
   "source": [
    "# Create BeautifulSoup object \n",
    "url = requests.get('https://en.wikipedia.org/wiki/Python_(programming_language)') \n",
    "html = url.text # GET page content \n",
    "soup = BeautifulSoup(html, 'html.parser') # Converts into a BeautifulSoup object \n",
    "\n",
    "#header = soup.find(name='h3', attrs={'class': 'mw-headline', 'id': 'Methods'}) \n",
    "header = soup.find(\"h3\")\n",
    "print(header) # Returns 'None' if it cant find it\n",
    "methods = header.findChildren()\n",
    "print(methods)\n",
    "body = methods[1].text\n",
    "print(body)"
   ]
  }
 ],
 "metadata": {
  "interpreter": {
   "hash": "c4aa49906c49aab2699de75d29353ef6218c1548a647ded36ad1d3c83fbb1a8d"
  },
  "kernelspec": {
   "display_name": "Python 3.9.7 ('DataCollectionPipeline')",
   "language": "python",
   "name": "python3"
  },
  "language_info": {
   "codemirror_mode": {
    "name": "ipython",
    "version": 3
   },
   "file_extension": ".py",
   "mimetype": "text/x-python",
   "name": "python",
   "nbconvert_exporter": "python",
   "pygments_lexer": "ipython3",
   "version": "3.9.7"
  },
  "orig_nbformat": 4
 },
 "nbformat": 4,
 "nbformat_minor": 2
}
